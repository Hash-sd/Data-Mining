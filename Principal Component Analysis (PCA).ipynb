{
  "nbformat": 4,
  "nbformat_minor": 0,
  "metadata": {
    "colab": {
      "provenance": [],
      "include_colab_link": true
    },
    "kernelspec": {
      "name": "python3",
      "display_name": "Python 3"
    },
    "language_info": {
      "name": "python"
    }
  },
  "cells": [
    {
      "cell_type": "markdown",
      "metadata": {
        "id": "view-in-github",
        "colab_type": "text"
      },
      "source": [
        "<a href=\"https://colab.research.google.com/github/Hash-sd/Data-Mining/blob/main/Principal%20Component%20Analysis%20(PCA).ipynb\" target=\"_parent\"><img src=\"https://colab.research.google.com/assets/colab-badge.svg\" alt=\"Open In Colab\"/></a>"
      ]
    },
    {
      "cell_type": "code",
      "source": [
        "# import library yang akan digunakan\n",
        "import numpy as np"
      ],
      "metadata": {
        "id": "8NtwL1XAOBf8"
      },
      "execution_count": null,
      "outputs": []
    },
    {
      "cell_type": "code",
      "source": [
        "# import data yang akan di reduksi menggunakan numpy\n",
        "data = np.array([\n",
        "    [2.5, 2.4, 3.5, 3.6], [0.5, 0.7, 1.2, 1.3],\n",
        "    [2.2, 2.9, 3.0, 3.4],\n",
        "    [1.9, 2.2, 2.5, 2.7],\n",
        "    [3.1, 3.6, 4.1, 4.0],\n",
        "    [2.3, 2.7, 3.1, 3.0],\n",
        "    [2.0, 1.6, 2.3, 2.4],\n",
        "    [1.0, 1.1, 1.5, 1.6],\n",
        "    [1.5, 1.6, 2.0, 2.1],\n",
        "    [1.1, 0.9, 1.3, 1.4]\n",
        "])\n",
        "#standarisasi data\n",
        "mean=np.mean(data,axis=0)\n",
        "std_dev = np.std(data, axis=0)\n",
        "Z= (data - mean) / std_dev\n",
        "print(Z)\n"
      ],
      "metadata": {
        "colab": {
          "base_uri": "https://localhost:8080/"
        },
        "id": "YTRPAq7QwVHN",
        "outputId": "d258da30-1e81-4450-e734-ccaacd86721e"
      },
      "execution_count": null,
      "outputs": [
        {
          "output_type": "stream",
          "name": "stdout",
          "text": [
            "[[ 0.92627881  0.47833912  1.13455516  1.16201358]\n",
            " [-1.7585873  -1.41276904 -1.35066091 -1.3833495 ]\n",
            " [ 0.52354889  1.0345474   0.5942908   0.94067766]\n",
            " [ 0.12081898  0.25585581  0.05402644  0.16600194]\n",
            " [ 1.73173864  1.813239    1.78287239  1.60468542]\n",
            " [ 0.6577922   0.81206409  0.70234367  0.49800582]\n",
            " [ 0.25506228 -0.41159413 -0.16207931 -0.16600194]\n",
            " [-1.08737078 -0.96780241 -1.02650229 -1.05134562]\n",
            " [-0.41615425 -0.41159413 -0.48623793 -0.49800582]\n",
            " [-0.95312747 -1.19028572 -1.24260803 -1.27268154]]\n"
          ]
        }
      ]
    },
    {
      "cell_type": "code",
      "execution_count": null,
      "metadata": {
        "id": "b4jHa9DmwQ5r"
      },
      "outputs": [],
      "source": [
        "#hitung matriks covarian dari Z\n",
        "cov_matrix = np.cov(Z, rowvar=False)"
      ]
    },
    {
      "cell_type": "code",
      "source": [
        "#Hitung nilai eigen dan vektor eigen dari matriks covarian\n",
        "eigenvalues, eigenvectors = np.linalg.eig(cov_matrix)"
      ],
      "metadata": {
        "id": "hTxmRbo6weRA"
      },
      "execution_count": null,
      "outputs": []
    },
    {
      "cell_type": "code",
      "source": [
        "#hitung proporsi variansi dari nilai eigen\n",
        "total_variance = np.sum(eigenvalues)\n",
        "explained_variance_ratio = eigenvalues / total_variance"
      ],
      "metadata": {
        "id": "MvI40-nYwg0h"
      },
      "execution_count": null,
      "outputs": []
    },
    {
      "cell_type": "code",
      "source": [
        "#hitung kontribusi variansi dari nilai eigen\n",
        "cumulative_variance_ratio = np.cumsum(explained_variance_ratio)\n",
        "\n",
        "print(\"eigen val\",eigenvalues)\n",
        "print(\"proporsi\", explained_variance_ratio)\n",
        "print(\"kumulatif\",cumulative_variance_ratio)"
      ],
      "metadata": {
        "colab": {
          "base_uri": "https://localhost:8080/"
        },
        "id": "VeyA9FrywiKH",
        "outputId": "625baa1e-0978-46fc-e9c0-5af14d302fcc"
      },
      "execution_count": null,
      "outputs": [
        {
          "output_type": "stream",
          "name": "stdout",
          "text": [
            "eigen val [4.33318943 0.06538576 0.0358081  0.01006116]\n",
            "proporsi [0.97496762 0.0147118  0.00805682 0.00226376]\n",
            "kumulatif [0.97496762 0.98967942 0.99773624 1.        ]\n"
          ]
        }
      ]
    },
    {
      "cell_type": "code",
      "source": [
        "#tentukan ambang batas dalam pemilihan nilai eigen\n",
        "threshold = 0.9\n",
        "n_components = np.argmax(cumulative_variance_ratio >= threshold) + 1\n",
        "print(\"Jumlah komponen yang diperlukan:\", n_components)"
      ],
      "metadata": {
        "colab": {
          "base_uri": "https://localhost:8080/"
        },
        "id": "WXxJYeM3wtQO",
        "outputId": "5b24d8eb-0cb0-41f7-a6a1-89ed31187312"
      },
      "execution_count": null,
      "outputs": [
        {
          "output_type": "stream",
          "name": "stdout",
          "text": [
            "Jumlah komponen yang diperlukan: 1\n"
          ]
        }
      ]
    },
    {
      "cell_type": "code",
      "source": [
        "#urutkan nilai dan vektor eigen\n",
        "sorted_indices = np.argsort(eigenvalues)[::-1]\n",
        "sorted_eigenvalues = eigenvalues[sorted_indices]\n",
        "sorted_eigenvectors = eigenvectors[:, sorted_indices]"
      ],
      "metadata": {
        "id": "qTWq6z_LwxtN"
      },
      "execution_count": null,
      "outputs": []
    },
    {
      "cell_type": "code",
      "source": [
        "#ambil komponen utama sesuai n_componen\n",
        "n_components = 1\n",
        "W = sorted_eigenvectors[:, :n_components]"
      ],
      "metadata": {
        "id": "0zvN6qQ-w1Ui"
      },
      "execution_count": null,
      "outputs": []
    },
    {
      "cell_type": "code",
      "source": [
        "from sklearn.preprocessing import StandardScaler\n",
        "scaler = StandardScaler()\n",
        "X_scaled = scaler.fit_transform(data)"
      ],
      "metadata": {
        "id": "ouMM8Ye1w-L7"
      },
      "execution_count": null,
      "outputs": []
    },
    {
      "cell_type": "code",
      "source": [
        "#transformasi data\n",
        "Y = Z @ W\n",
        "Y"
      ],
      "metadata": {
        "colab": {
          "base_uri": "https://localhost:8080/"
        },
        "id": "AeC_xDpaw4ze",
        "outputId": "c619abe6-2186-4f64-a6e3-ea34b2234eab"
      },
      "execution_count": null,
      "outputs": [
        {
          "output_type": "execute_result",
          "data": {
            "text/plain": [
              "array([[-1.85364122],\n",
              "       [ 2.95159575],\n",
              "       [-1.54579331],\n",
              "       [-0.29769242],\n",
              "       [-3.46574526],\n",
              "       [-1.33423136],\n",
              "       [ 0.24222221],\n",
              "       [ 2.066633  ],\n",
              "       [ 0.90644968],\n",
              "       [ 2.33020293]])"
            ]
          },
          "metadata": {},
          "execution_count": 10
        }
      ]
    },
    {
      "cell_type": "markdown",
      "source": [
        "### Sklearn"
      ],
      "metadata": {
        "id": "zAboX-fLyiWi"
      }
    },
    {
      "cell_type": "code",
      "source": [
        "#Standarisasi data\n",
        "scaler = StandardScaler()\n",
        "X_scaled = scaler.fit_transform(data)"
      ],
      "metadata": {
        "id": "Ati3-qRa0MJh"
      },
      "execution_count": null,
      "outputs": []
    },
    {
      "cell_type": "code",
      "source": [
        "#reduksi dimensi menggunakan PCA\n",
        "#dipilih satu komponen sesuai n_componen pada bg.1\n",
        "from sklearn.decomposition import PCA\n",
        "pca = PCA(n_components=1)\n",
        "X_pca = pca.fit_transform(X_scaled)"
      ],
      "metadata": {
        "id": "FMiVHpOzxAnO"
      },
      "execution_count": null,
      "outputs": []
    },
    {
      "cell_type": "code",
      "source": [
        "X_pca"
      ],
      "metadata": {
        "colab": {
          "base_uri": "https://localhost:8080/"
        },
        "id": "Hyc9SANYxCXE",
        "outputId": "582ac4f5-2e8d-4445-a3e7-2bf7021e1cd3"
      },
      "execution_count": null,
      "outputs": [
        {
          "output_type": "execute_result",
          "data": {
            "text/plain": [
              "array([[ 1.85364122],\n",
              "       [-2.95159575],\n",
              "       [ 1.54579331],\n",
              "       [ 0.29769242],\n",
              "       [ 3.46574526],\n",
              "       [ 1.33423136],\n",
              "       [-0.24222221],\n",
              "       [-2.066633  ],\n",
              "       [-0.90644968],\n",
              "       [-2.33020293]])"
            ]
          },
          "metadata": {},
          "execution_count": 13
        }
      ]
    }
  ]
}