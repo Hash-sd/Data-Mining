{
  "nbformat": 4,
  "nbformat_minor": 0,
  "metadata": {
    "colab": {
      "provenance": [],
      "authorship_tag": "ABX9TyNUYdF5p1Yz/rm12XPKNb9O",
      "include_colab_link": true
    },
    "kernelspec": {
      "name": "python3",
      "display_name": "Python 3"
    },
    "language_info": {
      "name": "python"
    }
  },
  "cells": [
    {
      "cell_type": "markdown",
      "metadata": {
        "id": "view-in-github",
        "colab_type": "text"
      },
      "source": [
        "<a href=\"https://colab.research.google.com/github/Hash-sd/Data-Mining/blob/main/LINEAR_DISCRIMINANT_ANALYSIS_.ipynb\" target=\"_parent\"><img src=\"https://colab.research.google.com/assets/colab-badge.svg\" alt=\"Open In Colab\"/></a>"
      ]
    },
    {
      "cell_type": "markdown",
      "source": [
        "## Andi sedang mempelajari teknik Linear Discriminant Analysis (LDA) untuk mengklasifikasikan data menjadi dua kelas, yaitu kelas A dan kelas B. Andi diberikan data dengan dua fitur, yaitu x1 dan x2, serta label kelasnya sebagai berikut:"
      ],
      "metadata": {
        "id": "QMjsKxJEUUHS"
      }
    },
    {
      "cell_type": "code",
      "source": [
        "import numpy as np\n",
        "import pandas as pd\n",
        "from sklearn.discriminant_analysis import LinearDiscriminantAnalysis\n",
        "import pandas as pd"
      ],
      "metadata": {
        "id": "85urhBcYUMbO"
      },
      "execution_count": 1,
      "outputs": []
    },
    {
      "source": [
        "# Mendefinisikan data\n",
        "data = {\n",
        "    'x1' : [3, -1, 2, -2, 1, 5, 6, -3, 0, 4, -4, 2],\n",
        "    'x2' : [1, -2, 3, -1, 0, 2, -3, 3, -2, 1, 4, -1],\n",
        "    'kelas' : ['A', 'A', 'A', 'A', 'B', 'B', 'B', 'B', 'A', 'A', 'B', 'B']\n",
        "}\n",
        "\n",
        "# Membuat DataFrame\n",
        "df = pd.DataFrame(data)\n",
        "\n",
        "# Mendefinisikan fitur (X) dan label kelas (y)\n",
        "X = df[['x1', 'x2']].values\n",
        "y = df['kelas'].values\n",
        "\n",
        "df"
      ],
      "cell_type": "code",
      "metadata": {
        "colab": {
          "base_uri": "https://localhost:8080/",
          "height": 426
        },
        "id": "lvw7dIjbVa-l",
        "outputId": "0c8c82af-5b59-495a-ac81-6606f3cda312"
      },
      "execution_count": 2,
      "outputs": [
        {
          "output_type": "execute_result",
          "data": {
            "text/plain": [
              "    x1  x2 kelas\n",
              "0    3   1     A\n",
              "1   -1  -2     A\n",
              "2    2   3     A\n",
              "3   -2  -1     A\n",
              "4    1   0     B\n",
              "5    5   2     B\n",
              "6    6  -3     B\n",
              "7   -3   3     B\n",
              "8    0  -2     A\n",
              "9    4   1     A\n",
              "10  -4   4     B\n",
              "11   2  -1     B"
            ],
            "text/html": [
              "\n",
              "  <div id=\"df-1d32166c-64fc-47bf-85e9-f7bfc8313c75\" class=\"colab-df-container\">\n",
              "    <div>\n",
              "<style scoped>\n",
              "    .dataframe tbody tr th:only-of-type {\n",
              "        vertical-align: middle;\n",
              "    }\n",
              "\n",
              "    .dataframe tbody tr th {\n",
              "        vertical-align: top;\n",
              "    }\n",
              "\n",
              "    .dataframe thead th {\n",
              "        text-align: right;\n",
              "    }\n",
              "</style>\n",
              "<table border=\"1\" class=\"dataframe\">\n",
              "  <thead>\n",
              "    <tr style=\"text-align: right;\">\n",
              "      <th></th>\n",
              "      <th>x1</th>\n",
              "      <th>x2</th>\n",
              "      <th>kelas</th>\n",
              "    </tr>\n",
              "  </thead>\n",
              "  <tbody>\n",
              "    <tr>\n",
              "      <th>0</th>\n",
              "      <td>3</td>\n",
              "      <td>1</td>\n",
              "      <td>A</td>\n",
              "    </tr>\n",
              "    <tr>\n",
              "      <th>1</th>\n",
              "      <td>-1</td>\n",
              "      <td>-2</td>\n",
              "      <td>A</td>\n",
              "    </tr>\n",
              "    <tr>\n",
              "      <th>2</th>\n",
              "      <td>2</td>\n",
              "      <td>3</td>\n",
              "      <td>A</td>\n",
              "    </tr>\n",
              "    <tr>\n",
              "      <th>3</th>\n",
              "      <td>-2</td>\n",
              "      <td>-1</td>\n",
              "      <td>A</td>\n",
              "    </tr>\n",
              "    <tr>\n",
              "      <th>4</th>\n",
              "      <td>1</td>\n",
              "      <td>0</td>\n",
              "      <td>B</td>\n",
              "    </tr>\n",
              "    <tr>\n",
              "      <th>5</th>\n",
              "      <td>5</td>\n",
              "      <td>2</td>\n",
              "      <td>B</td>\n",
              "    </tr>\n",
              "    <tr>\n",
              "      <th>6</th>\n",
              "      <td>6</td>\n",
              "      <td>-3</td>\n",
              "      <td>B</td>\n",
              "    </tr>\n",
              "    <tr>\n",
              "      <th>7</th>\n",
              "      <td>-3</td>\n",
              "      <td>3</td>\n",
              "      <td>B</td>\n",
              "    </tr>\n",
              "    <tr>\n",
              "      <th>8</th>\n",
              "      <td>0</td>\n",
              "      <td>-2</td>\n",
              "      <td>A</td>\n",
              "    </tr>\n",
              "    <tr>\n",
              "      <th>9</th>\n",
              "      <td>4</td>\n",
              "      <td>1</td>\n",
              "      <td>A</td>\n",
              "    </tr>\n",
              "    <tr>\n",
              "      <th>10</th>\n",
              "      <td>-4</td>\n",
              "      <td>4</td>\n",
              "      <td>B</td>\n",
              "    </tr>\n",
              "    <tr>\n",
              "      <th>11</th>\n",
              "      <td>2</td>\n",
              "      <td>-1</td>\n",
              "      <td>B</td>\n",
              "    </tr>\n",
              "  </tbody>\n",
              "</table>\n",
              "</div>\n",
              "    <div class=\"colab-df-buttons\">\n",
              "\n",
              "  <div class=\"colab-df-container\">\n",
              "    <button class=\"colab-df-convert\" onclick=\"convertToInteractive('df-1d32166c-64fc-47bf-85e9-f7bfc8313c75')\"\n",
              "            title=\"Convert this dataframe to an interactive table.\"\n",
              "            style=\"display:none;\">\n",
              "\n",
              "  <svg xmlns=\"http://www.w3.org/2000/svg\" height=\"24px\" viewBox=\"0 -960 960 960\">\n",
              "    <path d=\"M120-120v-720h720v720H120Zm60-500h600v-160H180v160Zm220 220h160v-160H400v160Zm0 220h160v-160H400v160ZM180-400h160v-160H180v160Zm440 0h160v-160H620v160ZM180-180h160v-160H180v160Zm440 0h160v-160H620v160Z\"/>\n",
              "  </svg>\n",
              "    </button>\n",
              "\n",
              "  <style>\n",
              "    .colab-df-container {\n",
              "      display:flex;\n",
              "      gap: 12px;\n",
              "    }\n",
              "\n",
              "    .colab-df-convert {\n",
              "      background-color: #E8F0FE;\n",
              "      border: none;\n",
              "      border-radius: 50%;\n",
              "      cursor: pointer;\n",
              "      display: none;\n",
              "      fill: #1967D2;\n",
              "      height: 32px;\n",
              "      padding: 0 0 0 0;\n",
              "      width: 32px;\n",
              "    }\n",
              "\n",
              "    .colab-df-convert:hover {\n",
              "      background-color: #E2EBFA;\n",
              "      box-shadow: 0px 1px 2px rgba(60, 64, 67, 0.3), 0px 1px 3px 1px rgba(60, 64, 67, 0.15);\n",
              "      fill: #174EA6;\n",
              "    }\n",
              "\n",
              "    .colab-df-buttons div {\n",
              "      margin-bottom: 4px;\n",
              "    }\n",
              "\n",
              "    [theme=dark] .colab-df-convert {\n",
              "      background-color: #3B4455;\n",
              "      fill: #D2E3FC;\n",
              "    }\n",
              "\n",
              "    [theme=dark] .colab-df-convert:hover {\n",
              "      background-color: #434B5C;\n",
              "      box-shadow: 0px 1px 3px 1px rgba(0, 0, 0, 0.15);\n",
              "      filter: drop-shadow(0px 1px 2px rgba(0, 0, 0, 0.3));\n",
              "      fill: #FFFFFF;\n",
              "    }\n",
              "  </style>\n",
              "\n",
              "    <script>\n",
              "      const buttonEl =\n",
              "        document.querySelector('#df-1d32166c-64fc-47bf-85e9-f7bfc8313c75 button.colab-df-convert');\n",
              "      buttonEl.style.display =\n",
              "        google.colab.kernel.accessAllowed ? 'block' : 'none';\n",
              "\n",
              "      async function convertToInteractive(key) {\n",
              "        const element = document.querySelector('#df-1d32166c-64fc-47bf-85e9-f7bfc8313c75');\n",
              "        const dataTable =\n",
              "          await google.colab.kernel.invokeFunction('convertToInteractive',\n",
              "                                                    [key], {});\n",
              "        if (!dataTable) return;\n",
              "\n",
              "        const docLinkHtml = 'Like what you see? Visit the ' +\n",
              "          '<a target=\"_blank\" href=https://colab.research.google.com/notebooks/data_table.ipynb>data table notebook</a>'\n",
              "          + ' to learn more about interactive tables.';\n",
              "        element.innerHTML = '';\n",
              "        dataTable['output_type'] = 'display_data';\n",
              "        await google.colab.output.renderOutput(dataTable, element);\n",
              "        const docLink = document.createElement('div');\n",
              "        docLink.innerHTML = docLinkHtml;\n",
              "        element.appendChild(docLink);\n",
              "      }\n",
              "    </script>\n",
              "  </div>\n",
              "\n",
              "\n",
              "<div id=\"df-5e362f52-b093-4852-8aa2-aa0c511c6b04\">\n",
              "  <button class=\"colab-df-quickchart\" onclick=\"quickchart('df-5e362f52-b093-4852-8aa2-aa0c511c6b04')\"\n",
              "            title=\"Suggest charts\"\n",
              "            style=\"display:none;\">\n",
              "\n",
              "<svg xmlns=\"http://www.w3.org/2000/svg\" height=\"24px\"viewBox=\"0 0 24 24\"\n",
              "     width=\"24px\">\n",
              "    <g>\n",
              "        <path d=\"M19 3H5c-1.1 0-2 .9-2 2v14c0 1.1.9 2 2 2h14c1.1 0 2-.9 2-2V5c0-1.1-.9-2-2-2zM9 17H7v-7h2v7zm4 0h-2V7h2v10zm4 0h-2v-4h2v4z\"/>\n",
              "    </g>\n",
              "</svg>\n",
              "  </button>\n",
              "\n",
              "<style>\n",
              "  .colab-df-quickchart {\n",
              "      --bg-color: #E8F0FE;\n",
              "      --fill-color: #1967D2;\n",
              "      --hover-bg-color: #E2EBFA;\n",
              "      --hover-fill-color: #174EA6;\n",
              "      --disabled-fill-color: #AAA;\n",
              "      --disabled-bg-color: #DDD;\n",
              "  }\n",
              "\n",
              "  [theme=dark] .colab-df-quickchart {\n",
              "      --bg-color: #3B4455;\n",
              "      --fill-color: #D2E3FC;\n",
              "      --hover-bg-color: #434B5C;\n",
              "      --hover-fill-color: #FFFFFF;\n",
              "      --disabled-bg-color: #3B4455;\n",
              "      --disabled-fill-color: #666;\n",
              "  }\n",
              "\n",
              "  .colab-df-quickchart {\n",
              "    background-color: var(--bg-color);\n",
              "    border: none;\n",
              "    border-radius: 50%;\n",
              "    cursor: pointer;\n",
              "    display: none;\n",
              "    fill: var(--fill-color);\n",
              "    height: 32px;\n",
              "    padding: 0;\n",
              "    width: 32px;\n",
              "  }\n",
              "\n",
              "  .colab-df-quickchart:hover {\n",
              "    background-color: var(--hover-bg-color);\n",
              "    box-shadow: 0 1px 2px rgba(60, 64, 67, 0.3), 0 1px 3px 1px rgba(60, 64, 67, 0.15);\n",
              "    fill: var(--button-hover-fill-color);\n",
              "  }\n",
              "\n",
              "  .colab-df-quickchart-complete:disabled,\n",
              "  .colab-df-quickchart-complete:disabled:hover {\n",
              "    background-color: var(--disabled-bg-color);\n",
              "    fill: var(--disabled-fill-color);\n",
              "    box-shadow: none;\n",
              "  }\n",
              "\n",
              "  .colab-df-spinner {\n",
              "    border: 2px solid var(--fill-color);\n",
              "    border-color: transparent;\n",
              "    border-bottom-color: var(--fill-color);\n",
              "    animation:\n",
              "      spin 1s steps(1) infinite;\n",
              "  }\n",
              "\n",
              "  @keyframes spin {\n",
              "    0% {\n",
              "      border-color: transparent;\n",
              "      border-bottom-color: var(--fill-color);\n",
              "      border-left-color: var(--fill-color);\n",
              "    }\n",
              "    20% {\n",
              "      border-color: transparent;\n",
              "      border-left-color: var(--fill-color);\n",
              "      border-top-color: var(--fill-color);\n",
              "    }\n",
              "    30% {\n",
              "      border-color: transparent;\n",
              "      border-left-color: var(--fill-color);\n",
              "      border-top-color: var(--fill-color);\n",
              "      border-right-color: var(--fill-color);\n",
              "    }\n",
              "    40% {\n",
              "      border-color: transparent;\n",
              "      border-right-color: var(--fill-color);\n",
              "      border-top-color: var(--fill-color);\n",
              "    }\n",
              "    60% {\n",
              "      border-color: transparent;\n",
              "      border-right-color: var(--fill-color);\n",
              "    }\n",
              "    80% {\n",
              "      border-color: transparent;\n",
              "      border-right-color: var(--fill-color);\n",
              "      border-bottom-color: var(--fill-color);\n",
              "    }\n",
              "    90% {\n",
              "      border-color: transparent;\n",
              "      border-bottom-color: var(--fill-color);\n",
              "    }\n",
              "  }\n",
              "</style>\n",
              "\n",
              "  <script>\n",
              "    async function quickchart(key) {\n",
              "      const quickchartButtonEl =\n",
              "        document.querySelector('#' + key + ' button');\n",
              "      quickchartButtonEl.disabled = true;  // To prevent multiple clicks.\n",
              "      quickchartButtonEl.classList.add('colab-df-spinner');\n",
              "      try {\n",
              "        const charts = await google.colab.kernel.invokeFunction(\n",
              "            'suggestCharts', [key], {});\n",
              "      } catch (error) {\n",
              "        console.error('Error during call to suggestCharts:', error);\n",
              "      }\n",
              "      quickchartButtonEl.classList.remove('colab-df-spinner');\n",
              "      quickchartButtonEl.classList.add('colab-df-quickchart-complete');\n",
              "    }\n",
              "    (() => {\n",
              "      let quickchartButtonEl =\n",
              "        document.querySelector('#df-5e362f52-b093-4852-8aa2-aa0c511c6b04 button');\n",
              "      quickchartButtonEl.style.display =\n",
              "        google.colab.kernel.accessAllowed ? 'block' : 'none';\n",
              "    })();\n",
              "  </script>\n",
              "</div>\n",
              "\n",
              "  <div id=\"id_7331901c-4da1-4e39-8694-795910b5e39d\">\n",
              "    <style>\n",
              "      .colab-df-generate {\n",
              "        background-color: #E8F0FE;\n",
              "        border: none;\n",
              "        border-radius: 50%;\n",
              "        cursor: pointer;\n",
              "        display: none;\n",
              "        fill: #1967D2;\n",
              "        height: 32px;\n",
              "        padding: 0 0 0 0;\n",
              "        width: 32px;\n",
              "      }\n",
              "\n",
              "      .colab-df-generate:hover {\n",
              "        background-color: #E2EBFA;\n",
              "        box-shadow: 0px 1px 2px rgba(60, 64, 67, 0.3), 0px 1px 3px 1px rgba(60, 64, 67, 0.15);\n",
              "        fill: #174EA6;\n",
              "      }\n",
              "\n",
              "      [theme=dark] .colab-df-generate {\n",
              "        background-color: #3B4455;\n",
              "        fill: #D2E3FC;\n",
              "      }\n",
              "\n",
              "      [theme=dark] .colab-df-generate:hover {\n",
              "        background-color: #434B5C;\n",
              "        box-shadow: 0px 1px 3px 1px rgba(0, 0, 0, 0.15);\n",
              "        filter: drop-shadow(0px 1px 2px rgba(0, 0, 0, 0.3));\n",
              "        fill: #FFFFFF;\n",
              "      }\n",
              "    </style>\n",
              "    <button class=\"colab-df-generate\" onclick=\"generateWithVariable('df')\"\n",
              "            title=\"Generate code using this dataframe.\"\n",
              "            style=\"display:none;\">\n",
              "\n",
              "  <svg xmlns=\"http://www.w3.org/2000/svg\" height=\"24px\"viewBox=\"0 0 24 24\"\n",
              "       width=\"24px\">\n",
              "    <path d=\"M7,19H8.4L18.45,9,17,7.55,7,17.6ZM5,21V16.75L18.45,3.32a2,2,0,0,1,2.83,0l1.4,1.43a1.91,1.91,0,0,1,.58,1.4,1.91,1.91,0,0,1-.58,1.4L9.25,21ZM18.45,9,17,7.55Zm-12,3A5.31,5.31,0,0,0,4.9,8.1,5.31,5.31,0,0,0,1,6.5,5.31,5.31,0,0,0,4.9,4.9,5.31,5.31,0,0,0,6.5,1,5.31,5.31,0,0,0,8.1,4.9,5.31,5.31,0,0,0,12,6.5,5.46,5.46,0,0,0,6.5,12Z\"/>\n",
              "  </svg>\n",
              "    </button>\n",
              "    <script>\n",
              "      (() => {\n",
              "      const buttonEl =\n",
              "        document.querySelector('#id_7331901c-4da1-4e39-8694-795910b5e39d button.colab-df-generate');\n",
              "      buttonEl.style.display =\n",
              "        google.colab.kernel.accessAllowed ? 'block' : 'none';\n",
              "\n",
              "      buttonEl.onclick = () => {\n",
              "        google.colab.notebook.generateWithVariable('df');\n",
              "      }\n",
              "      })();\n",
              "    </script>\n",
              "  </div>\n",
              "\n",
              "    </div>\n",
              "  </div>\n"
            ],
            "application/vnd.google.colaboratory.intrinsic+json": {
              "type": "dataframe",
              "variable_name": "df",
              "summary": "{\n  \"name\": \"df\",\n  \"rows\": 12,\n  \"fields\": [\n    {\n      \"column\": \"x1\",\n      \"properties\": {\n        \"dtype\": \"number\",\n        \"std\": 3,\n        \"min\": -4,\n        \"max\": 6,\n        \"num_unique_values\": 11,\n        \"samples\": [\n          5,\n          3,\n          4\n        ],\n        \"semantic_type\": \"\",\n        \"description\": \"\"\n      }\n    },\n    {\n      \"column\": \"x2\",\n      \"properties\": {\n        \"dtype\": \"number\",\n        \"std\": 2,\n        \"min\": -3,\n        \"max\": 4,\n        \"num_unique_values\": 8,\n        \"samples\": [\n          -2,\n          2,\n          1\n        ],\n        \"semantic_type\": \"\",\n        \"description\": \"\"\n      }\n    },\n    {\n      \"column\": \"kelas\",\n      \"properties\": {\n        \"dtype\": \"category\",\n        \"num_unique_values\": 2,\n        \"samples\": [\n          \"B\",\n          \"A\"\n        ],\n        \"semantic_type\": \"\",\n        \"description\": \"\"\n      }\n    }\n  ]\n}"
            }
          },
          "metadata": {},
          "execution_count": 2
        }
      ]
    },
    {
      "cell_type": "markdown",
      "source": [
        "*   Tentukan mean (rata-rata) dari masing-masing kelas A dan B untuk setiap fitur x1 dan x2"
      ],
      "metadata": {
        "id": "rTT2fUkNVkKs"
      }
    },
    {
      "cell_type": "code",
      "source": [
        "# Menghitung mean untuk setiap kelas\n",
        "mean_A = X[y == 'A'].mean(axis=0)\n",
        "mean_B = X[y == 'B'].mean(axis=0)\n",
        "\n",
        "# Menampilkan hasil mean untuk masing-masing kelas\n",
        "print(\"Mean Kelas A:\", mean_A)\n",
        "print(\"Mean Kelas B:\", mean_B)"
      ],
      "metadata": {
        "colab": {
          "base_uri": "https://localhost:8080/"
        },
        "id": "2hgpvFLNVj-U",
        "outputId": "e58e6270-9d9e-4051-fd79-8bc404deee9e"
      },
      "execution_count": 3,
      "outputs": [
        {
          "output_type": "stream",
          "name": "stdout",
          "text": [
            "Mean Kelas A: [1. 0.]\n",
            "Mean Kelas B: [1.16666667 0.83333333]\n"
          ]
        }
      ]
    },
    {
      "cell_type": "markdown",
      "source": [
        "*   Hitung Matriks Scatter Dalam Kelas (Within-Class Scatter Matrix) Swberdasarkan data\n",
        "di atas."
      ],
      "metadata": {
        "id": "QbvwoP3oV_Gz"
      }
    },
    {
      "cell_type": "code",
      "source": [
        "# Inisialisasi matriks scatter dalam kelas\n",
        "Sw = np.zeros((2, 2))\n",
        "\n",
        "# Menghitung matriks scatter dalam kelas (Sw)\n",
        "for i in range(len(X)):\n",
        "    x = X[i].reshape(2, 1)\n",
        "    if y[i] == 'A':\n",
        "        mean_vec = mean_A.reshape(2, 1)\n",
        "    else:\n",
        "        mean_vec = mean_B.reshape(2, 1)\n",
        "    Sw += (x - mean_vec).dot((x - mean_vec).T)\n",
        "\n",
        "# Menampilkan matriks scatter dalam kelas\n",
        "print(\"Within-Class Scatter Matrix (Sw):\\n\", Sw)"
      ],
      "metadata": {
        "colab": {
          "base_uri": "https://localhost:8080/"
        },
        "id": "fA9EEZQzVxts",
        "outputId": "34654fda-214f-4275-fa9e-070d9bd26307"
      },
      "execution_count": 4,
      "outputs": [
        {
          "output_type": "stream",
          "name": "stdout",
          "text": [
            "Within-Class Scatter Matrix (Sw):\n",
            " [[110.83333333 -23.83333333]\n",
            " [-23.83333333  54.83333333]]\n"
          ]
        }
      ]
    },
    {
      "cell_type": "markdown",
      "source": [
        "*   Hitung Matriks Scatter Antar Kelas (Between-Class Scatter Matrix) Sb dari data\n",
        "tersebut."
      ],
      "metadata": {
        "id": "6p_77b7XWCON"
      }
    },
    {
      "cell_type": "code",
      "source": [
        "# Menghitung rata-rata total\n",
        "mean_total = np.mean(X, axis=0).reshape(2, 1)\n",
        "mean_A = mean_A.reshape(2, 1)\n",
        "mean_B = mean_B.reshape(2, 1)\n",
        "\n",
        "# Menghitung matriks scatter antar kelas (Sb) tanpa *5\n",
        "Sb =  (mean_A - mean_total).dot((mean_A - mean_total).T) + \\\n",
        "      (mean_B - mean_total).dot((mean_B - mean_total).T)\n",
        "\n",
        "# Menampilkan matriks scatter antar kelas\n",
        "print(\"Between-Class Scatter Matrix (Sb):\\n\", Sb)"
      ],
      "metadata": {
        "colab": {
          "base_uri": "https://localhost:8080/"
        },
        "id": "MadqgJIHYU96",
        "outputId": "35ece710-3aa7-4757-f15f-9726bed0c560"
      },
      "execution_count": 5,
      "outputs": [
        {
          "output_type": "stream",
          "name": "stdout",
          "text": [
            "Between-Class Scatter Matrix (Sb):\n",
            " [[0.01388889 0.06944444]\n",
            " [0.06944444 0.34722222]]\n"
          ]
        }
      ]
    },
    {
      "cell_type": "code",
      "source": [
        "# Menghitung rata-rata total\n",
        "mean_total = np.mean(X, axis=0).reshape(2, 1)\n",
        "mean_A = mean_A.reshape(2, 1)\n",
        "mean_B = mean_B.reshape(2, 1)\n",
        "\n",
        "# Menghitung matriks scatter antar kelas (Sb)\n",
        "Sb = 5 * (mean_A - mean_total).dot((mean_A - mean_total).T) + \\\n",
        "     5 * (mean_B - mean_total).dot((mean_B - mean_total).T)\n",
        "\n",
        "# Menampilkan matriks scatter antar kelas\n",
        "print(\"Between-Class Scatter Matrix (Sb):\\n\", Sb)"
      ],
      "metadata": {
        "colab": {
          "base_uri": "https://localhost:8080/"
        },
        "id": "KIMMqGvsWJCU",
        "outputId": "fa588d6d-3b3b-4438-8a85-ea11356f463f"
      },
      "execution_count": 6,
      "outputs": [
        {
          "output_type": "stream",
          "name": "stdout",
          "text": [
            "Between-Class Scatter Matrix (Sb):\n",
            " [[0.06944444 0.34722222]\n",
            " [0.34722222 1.73611111]]\n"
          ]
        }
      ]
    },
    {
      "cell_type": "markdown",
      "source": [
        "*   Jelaskan bagaimana Andi bisa menggunakan hasil perhitungan dari Sw dan Sb untuk\n",
        "menemukan vektor proyeksi yang memisahkan kelas A dan B secara maksimal."
      ],
      "metadata": {
        "id": "iRD5aPAvWSeF"
      }
    },
    {
      "cell_type": "code",
      "source": [
        "# Menyelesaikan persamaan nilai eigen\n",
        "eig_vals, eig_vecs = np.linalg.eig(np.linalg.inv(Sw).dot(Sb))\n",
        "\n",
        "# Menampilkan nilai eigen dan vektor eigen\n",
        "print(\"Nilai Eigen:\\n\", eig_vals)\n",
        "print(\"Vektor Eigen:\\n\", eig_vecs)"
      ],
      "metadata": {
        "colab": {
          "base_uri": "https://localhost:8080/"
        },
        "id": "UFBXGhsaWR9c",
        "outputId": "d714e690-03e4-4edd-a011-2f301d385a69"
      },
      "execution_count": 7,
      "outputs": [
        {
          "output_type": "stream",
          "name": "stdout",
          "text": [
            "Nilai Eigen:\n",
            " [0.         0.03862133]\n",
            "Vektor Eigen:\n",
            " [[-0.98058068 -0.28825968]\n",
            " [ 0.19611614 -0.95755227]]\n"
          ]
        }
      ]
    },
    {
      "cell_type": "code",
      "source": [
        "# Memilih indeks nilai eigen tertinggi\n",
        "idx = np.argmax(eig_vals)\n",
        "\n",
        "# Memilih vektor eigen yang sesuai dengan nilai eigen tertinggi\n",
        "w = eig_vecs[:, idx]\n",
        "\n",
        "# Menampilkan vektor proyeksi\n",
        "print(\"Vektor Proyeksi (w):\\n\", w)"
      ],
      "metadata": {
        "colab": {
          "base_uri": "https://localhost:8080/"
        },
        "id": "tuTd_EIXWtvs",
        "outputId": "ee423fcc-418d-4d4a-92f8-73009b32d78e"
      },
      "execution_count": 8,
      "outputs": [
        {
          "output_type": "stream",
          "name": "stdout",
          "text": [
            "Vektor Proyeksi (w):\n",
            " [-0.28825968 -0.95755227]\n"
          ]
        }
      ]
    },
    {
      "cell_type": "code",
      "source": [
        "# Memproyeksikan data ke dimensi yang lebih rendah\n",
        "X_lda = X.dot(w)\n",
        "\n",
        "# Menampilkan data setelah proyeksi LDA\n",
        "print(\"Data setelah proyeksi LDA:\\n\", X_lda)"
      ],
      "metadata": {
        "colab": {
          "base_uri": "https://localhost:8080/"
        },
        "id": "MDKXVwSDfwVU",
        "outputId": "db135264-8e3a-4d10-8955-1f07c9e7e759"
      },
      "execution_count": 9,
      "outputs": [
        {
          "output_type": "stream",
          "name": "stdout",
          "text": [
            "Data setelah proyeksi LDA:\n",
            " [-1.82233132  2.20336423 -3.44917618  1.53407164 -0.28825968 -3.35640295\n",
            "  1.14309873 -2.00787778  1.91510455 -2.110591   -2.67717037  0.38103291]\n"
          ]
        }
      ]
    },
    {
      "cell_type": "markdown",
      "source": [
        "*   Apakah data tersebut bisa langsung diimplementasikan menggunakan LDA dengan\n",
        "Scikit-Learn?"
      ],
      "metadata": {
        "id": "7ucLD7EfW4XG"
      }
    },
    {
      "source": [
        "from sklearn.discriminant_analysis import LinearDiscriminantAnalysis\n",
        "\n",
        "# Initialize the LDA object\n",
        "lda = LinearDiscriminantAnalysis()\n",
        "\n",
        "# Project the data using LDA from Scikit-Learn\n",
        "X_lda_sklearn = lda.fit_transform(X, y)\n",
        "\n",
        "# Display the projected data\n",
        "print(\"Data setelah proyeksi LDA (Scikit-Learn):\\n\", X_lda_sklearn)"
      ],
      "cell_type": "code",
      "metadata": {
        "colab": {
          "base_uri": "https://localhost:8080/"
        },
        "id": "xSBjwoTnY2ff",
        "outputId": "9ca57a27-7aab-4061-c01a-905ffdd8af55"
      },
      "execution_count": 10,
      "outputs": [
        {
          "output_type": "stream",
          "name": "stdout",
          "text": [
            "Data setelah proyeksi LDA (Scikit-Learn):\n",
            " [[ 0.51619384]\n",
            " [-1.35411087]\n",
            " [ 1.27201245]\n",
            " [-1.0431631 ]\n",
            " [-0.1965231 ]\n",
            " [ 1.22891078]\n",
            " [-0.86152033]\n",
            " [ 0.60239718]\n",
            " [-1.22018782]\n",
            " [ 0.65011689]\n",
            " [ 0.91334496]\n",
            " [-0.50747088]]\n"
          ]
        }
      ]
    },
    {
      "cell_type": "code",
      "source": [
        "#library\n",
        "import numpy as np\n",
        "import matplotlib.pyplot as plt\n",
        "from sklearn.discriminant_analysis import LinearDiscriminantAnalysis\n",
        "\n",
        "\n",
        "# Plot data sebelum LDA\n",
        "plt.figure(figsize=(10, 5))\n",
        "plt.subplot(1, 2, 1)\n",
        "plt.scatter(X[y == 'A', 0], X[y == 'A', 1], label='Kelas A')\n",
        "plt.scatter(X[y == 'B', 0], X[y == 'B', 1], label='Kelas B')\n",
        "plt.xlabel('x1')\n",
        "plt.ylabel('x2')\n",
        "plt.title('Data Sebelum LDA')\n",
        "plt.legend()\n",
        "# Tambahkan garis pemisah antar kelas\n",
        "plt.axvline(x=np.mean(X[:,0]), color='black', linestyle='--')\n",
        "\n",
        "# Plot data sesudah LDA\n",
        "plt.subplot(1, 2, 2)\n",
        "\n",
        "# Use X_lda_sklearn which contains data projected using LDA from Scikit-Learn\n",
        "plt.scatter(X_lda_sklearn[y == 'A'], np.zeros_like(X_lda_sklearn[y == 'A']), label='Kelas A')\n",
        "plt.scatter(X_lda_sklearn[y == 'B'], np.zeros_like(X_lda_sklearn[y == 'B']), label='Kelas B')\n",
        "plt.xlabel('Dimensi LDA')\n",
        "\n",
        "plt.title('Data Sesudah LDA')\n",
        "plt.legend()\n",
        "\n",
        "plt.show()"
      ],
      "metadata": {
        "colab": {
          "base_uri": "https://localhost:8080/",
          "height": 487
        },
        "id": "HppZ7FzfXrD_",
        "outputId": "9e7bda98-40b6-47b7-9a6d-255c59b6e92c"
      },
      "execution_count": 11,
      "outputs": [
        {
          "output_type": "display_data",
          "data": {
            "text/plain": [
              "<Figure size 1000x500 with 2 Axes>"
            ],
            "image/png": "[encoded data removed]"
          },
          "metadata": {}
        }
      ]
    },
    {
      "cell_type": "markdown",
      "source": [
        "## Budi adalah seorang peneliti yang sedang mencoba mengklasifikasikan jenis bunga berdasarkan panjang dan lebar kelopak. Ia memiliki data dari dua jenis bunga, yaitu jenis X dan jenis Y, dengan dua fitur, yaitu panjang kelopak (x1) dan lebar kelopak (x2). Berikut adalah data yang Budi kumpulkan:"
      ],
      "metadata": {
        "id": "-hubS33QZr2p"
      }
    },
    {
      "cell_type": "markdown",
      "source": [
        "\n",
        "\n",
        "*   Tentukan mean (rata-rata) dari masing-masing jenis bunga (X dan Y) untuk setiap fitur x1 (panjang kelopak) dan x2 (lebar kelopak).\n",
        "\n"
      ],
      "metadata": {
        "id": "UcCQuKeIZ6Ro"
      }
    },
    {
      "cell_type": "code",
      "source": [
        "import numpy as np\n",
        "import pandas as pd\n",
        "from sklearn.discriminant_analysis import LinearDiscriminantAnalysis\n",
        "import pandas as pd"
      ],
      "metadata": {
        "id": "Mo1ush_Zaigz"
      },
      "execution_count": 12,
      "outputs": []
    },
    {
      "cell_type": "markdown",
      "source": [
        "*   Tentukan mean (rata-rata) dari masing-masing jenis bunga (X dan Y) untuk setiap fitur\n",
        "x1 (panjang kelopak) dan x2 (lebar kelopak)."
      ],
      "metadata": {
        "id": "qpkBsdz2brSZ"
      }
    },
    {
      "cell_type": "code",
      "source": [
        "# Mendefinisikan data\n",
        "data = {\n",
        "    'jenis_bunga' : ['X', 'X', 'Y', 'Y', 'X', 'X', 'X', 'Y', 'Y', 'Y'],\n",
        "    'x1' : [1, 2, 3, 5, 2, 4, 1, 3, 4, 5],\n",
        "    'x2' : [3, 2, 4, 1, 3, 3, 2, 2, 1, 4]\n",
        "}\n",
        "\n",
        "# Membuat DataFrame\n",
        "df = pd.DataFrame(data)\n",
        "\n",
        "# Mendefinisikan fitur (X) dan label kelas (y)\n",
        "X = df[['x1', 'x2']].values\n",
        "y = df['jenis_bunga'].values\n",
        "\n",
        "df"
      ],
      "metadata": {
        "colab": {
          "base_uri": "https://localhost:8080/",
          "height": 363
        },
        "id": "X0fkuSb8ajK_",
        "outputId": "a6d2eeae-d594-469e-ac8a-f609fb5164ec"
      },
      "execution_count": 13,
      "outputs": [
        {
          "output_type": "execute_result",
          "data": {
            "text/plain": [
              "  jenis_bunga  x1  x2\n",
              "0           X   1   3\n",
              "1           X   2   2\n",
              "2           Y   3   4\n",
              "3           Y   5   1\n",
              "4           X   2   3\n",
              "5           X   4   3\n",
              "6           X   1   2\n",
              "7           Y   3   2\n",
              "8           Y   4   1\n",
              "9           Y   5   4"
            ],
            "text/html": [
              "\n",
              "  <div id=\"df-7cb1b9ac-3273-46e0-9fa7-1d3810d5daf2\" class=\"colab-df-container\">\n",
              "    <div>\n",
              "<style scoped>\n",
              "    .dataframe tbody tr th:only-of-type {\n",
              "        vertical-align: middle;\n",
              "    }\n",
              "\n",
              "    .dataframe tbody tr th {\n",
              "        vertical-align: top;\n",
              "    }\n",
              "\n",
              "    .dataframe thead th {\n",
              "        text-align: right;\n",
              "    }\n",
              "</style>\n",
              "<table border=\"1\" class=\"dataframe\">\n",
              "  <thead>\n",
              "    <tr style=\"text-align: right;\">\n",
              "      <th></th>\n",
              "      <th>jenis_bunga</th>\n",
              "      <th>x1</th>\n",
              "      <th>x2</th>\n",
              "    </tr>\n",
              "  </thead>\n",
              "  <tbody>\n",
              "    <tr>\n",
              "      <th>0</th>\n",
              "      <td>X</td>\n",
              "      <td>1</td>\n",
              "      <td>3</td>\n",
              "    </tr>\n",
              "    <tr>\n",
              "      <th>1</th>\n",
              "      <td>X</td>\n",
              "      <td>2</td>\n",
              "      <td>2</td>\n",
              "    </tr>\n",
              "    <tr>\n",
              "      <th>2</th>\n",
              "      <td>Y</td>\n",
              "      <td>3</td>\n",
              "      <td>4</td>\n",
              "    </tr>\n",
              "    <tr>\n",
              "      <th>3</th>\n",
              "      <td>Y</td>\n",
              "      <td>5</td>\n",
              "      <td>1</td>\n",
              "    </tr>\n",
              "    <tr>\n",
              "      <th>4</th>\n",
              "      <td>X</td>\n",
              "      <td>2</td>\n",
              "      <td>3</td>\n",
              "    </tr>\n",
              "    <tr>\n",
              "      <th>5</th>\n",
              "      <td>X</td>\n",
              "      <td>4</td>\n",
              "      <td>3</td>\n",
              "    </tr>\n",
              "    <tr>\n",
              "      <th>6</th>\n",
              "      <td>X</td>\n",
              "      <td>1</td>\n",
              "      <td>2</td>\n",
              "    </tr>\n",
              "    <tr>\n",
              "      <th>7</th>\n",
              "      <td>Y</td>\n",
              "      <td>3</td>\n",
              "      <td>2</td>\n",
              "    </tr>\n",
              "    <tr>\n",
              "      <th>8</th>\n",
              "      <td>Y</td>\n",
              "      <td>4</td>\n",
              "      <td>1</td>\n",
              "    </tr>\n",
              "    <tr>\n",
              "      <th>9</th>\n",
              "      <td>Y</td>\n",
              "      <td>5</td>\n",
              "      <td>4</td>\n",
              "    </tr>\n",
              "  </tbody>\n",
              "</table>\n",
              "</div>\n",
              "    <div class=\"colab-df-buttons\">\n",
              "\n",
              "  <div class=\"colab-df-container\">\n",
              "    <button class=\"colab-df-convert\" onclick=\"convertToInteractive('df-7cb1b9ac-3273-46e0-9fa7-1d3810d5daf2')\"\n",
              "            title=\"Convert this dataframe to an interactive table.\"\n",
              "            style=\"display:none;\">\n",
              "\n",
              "  <svg xmlns=\"http://www.w3.org/2000/svg\" height=\"24px\" viewBox=\"0 -960 960 960\">\n",
              "    <path d=\"M120-120v-720h720v720H120Zm60-500h600v-160H180v160Zm220 220h160v-160H400v160Zm0 220h160v-160H400v160ZM180-400h160v-160H180v160Zm440 0h160v-160H620v160ZM180-180h160v-160H180v160Zm440 0h160v-160H620v160Z\"/>\n",
              "  </svg>\n",
              "    </button>\n",
              "\n",
              "  <style>\n",
              "    .colab-df-container {\n",
              "      display:flex;\n",
              "      gap: 12px;\n",
              "    }\n",
              "\n",
              "    .colab-df-convert {\n",
              "      background-color: #E8F0FE;\n",
              "      border: none;\n",
              "      border-radius: 50%;\n",
              "      cursor: pointer;\n",
              "      display: none;\n",
              "      fill: #1967D2;\n",
              "      height: 32px;\n",
              "      padding: 0 0 0 0;\n",
              "      width: 32px;\n",
              "    }\n",
              "\n",
              "    .colab-df-convert:hover {\n",
              "      background-color: #E2EBFA;\n",
              "      box-shadow: 0px 1px 2px rgba(60, 64, 67, 0.3), 0px 1px 3px 1px rgba(60, 64, 67, 0.15);\n",
              "      fill: #174EA6;\n",
              "    }\n",
              "\n",
              "    .colab-df-buttons div {\n",
              "      margin-bottom: 4px;\n",
              "    }\n",
              "\n",
              "    [theme=dark] .colab-df-convert {\n",
              "      background-color: #3B4455;\n",
              "      fill: #D2E3FC;\n",
              "    }\n",
              "\n",
              "    [theme=dark] .colab-df-convert:hover {\n",
              "      background-color: #434B5C;\n",
              "      box-shadow: 0px 1px 3px 1px rgba(0, 0, 0, 0.15);\n",
              "      filter: drop-shadow(0px 1px 2px rgba(0, 0, 0, 0.3));\n",
              "      fill: #FFFFFF;\n",
              "    }\n",
              "  </style>\n",
              "\n",
              "    <script>\n",
              "      const buttonEl =\n",
              "        document.querySelector('#df-7cb1b9ac-3273-46e0-9fa7-1d3810d5daf2 button.colab-df-convert');\n",
              "      buttonEl.style.display =\n",
              "        google.colab.kernel.accessAllowed ? 'block' : 'none';\n",
              "\n",
              "      async function convertToInteractive(key) {\n",
              "        const element = document.querySelector('#df-7cb1b9ac-3273-46e0-9fa7-1d3810d5daf2');\n",
              "        const dataTable =\n",
              "          await google.colab.kernel.invokeFunction('convertToInteractive',\n",
              "                                                    [key], {});\n",
              "        if (!dataTable) return;\n",
              "\n",
              "        const docLinkHtml = 'Like what you see? Visit the ' +\n",
              "          '<a target=\"_blank\" href=https://colab.research.google.com/notebooks/data_table.ipynb>data table notebook</a>'\n",
              "          + ' to learn more about interactive tables.';\n",
              "        element.innerHTML = '';\n",
              "        dataTable['output_type'] = 'display_data';\n",
              "        await google.colab.output.renderOutput(dataTable, element);\n",
              "        const docLink = document.createElement('div');\n",
              "        docLink.innerHTML = docLinkHtml;\n",
              "        element.appendChild(docLink);\n",
              "      }\n",
              "    </script>\n",
              "  </div>\n",
              "\n",
              "\n",
              "<div id=\"df-1afce81f-37b8-4921-9f96-186f94a85506\">\n",
              "  <button class=\"colab-df-quickchart\" onclick=\"quickchart('df-1afce81f-37b8-4921-9f96-186f94a85506')\"\n",
              "            title=\"Suggest charts\"\n",
              "            style=\"display:none;\">\n",
              "\n",
              "<svg xmlns=\"http://www.w3.org/2000/svg\" height=\"24px\"viewBox=\"0 0 24 24\"\n",
              "     width=\"24px\">\n",
              "    <g>\n",
              "        <path d=\"M19 3H5c-1.1 0-2 .9-2 2v14c0 1.1.9 2 2 2h14c1.1 0 2-.9 2-2V5c0-1.1-.9-2-2-2zM9 17H7v-7h2v7zm4 0h-2V7h2v10zm4 0h-2v-4h2v4z\"/>\n",
              "    </g>\n",
              "</svg>\n",
              "  </button>\n",
              "\n",
              "<style>\n",
              "  .colab-df-quickchart {\n",
              "      --bg-color: #E8F0FE;\n",
              "      --fill-color: #1967D2;\n",
              "      --hover-bg-color: #E2EBFA;\n",
              "      --hover-fill-color: #174EA6;\n",
              "      --disabled-fill-color: #AAA;\n",
              "      --disabled-bg-color: #DDD;\n",
              "  }\n",
              "\n",
              "  [theme=dark] .colab-df-quickchart {\n",
              "      --bg-color: #3B4455;\n",
              "      --fill-color: #D2E3FC;\n",
              "      --hover-bg-color: #434B5C;\n",
              "      --hover-fill-color: #FFFFFF;\n",
              "      --disabled-bg-color: #3B4455;\n",
              "      --disabled-fill-color: #666;\n",
              "  }\n",
              "\n",
              "  .colab-df-quickchart {\n",
              "    background-color: var(--bg-color);\n",
              "    border: none;\n",
              "    border-radius: 50%;\n",
              "    cursor: pointer;\n",
              "    display: none;\n",
              "    fill: var(--fill-color);\n",
              "    height: 32px;\n",
              "    padding: 0;\n",
              "    width: 32px;\n",
              "  }\n",
              "\n",
              "  .colab-df-quickchart:hover {\n",
              "    background-color: var(--hover-bg-color);\n",
              "    box-shadow: 0 1px 2px rgba(60, 64, 67, 0.3), 0 1px 3px 1px rgba(60, 64, 67, 0.15);\n",
              "    fill: var(--button-hover-fill-color);\n",
              "  }\n",
              "\n",
              "  .colab-df-quickchart-complete:disabled,\n",
              "  .colab-df-quickchart-complete:disabled:hover {\n",
              "    background-color: var(--disabled-bg-color);\n",
              "    fill: var(--disabled-fill-color);\n",
              "    box-shadow: none;\n",
              "  }\n",
              "\n",
              "  .colab-df-spinner {\n",
              "    border: 2px solid var(--fill-color);\n",
              "    border-color: transparent;\n",
              "    border-bottom-color: var(--fill-color);\n",
              "    animation:\n",
              "      spin 1s steps(1) infinite;\n",
              "  }\n",
              "\n",
              "  @keyframes spin {\n",
              "    0% {\n",
              "      border-color: transparent;\n",
              "      border-bottom-color: var(--fill-color);\n",
              "      border-left-color: var(--fill-color);\n",
              "    }\n",
              "    20% {\n",
              "      border-color: transparent;\n",
              "      border-left-color: var(--fill-color);\n",
              "      border-top-color: var(--fill-color);\n",
              "    }\n",
              "    30% {\n",
              "      border-color: transparent;\n",
              "      border-left-color: var(--fill-color);\n",
              "      border-top-color: var(--fill-color);\n",
              "      border-right-color: var(--fill-color);\n",
              "    }\n",
              "    40% {\n",
              "      border-color: transparent;\n",
              "      border-right-color: var(--fill-color);\n",
              "      border-top-color: var(--fill-color);\n",
              "    }\n",
              "    60% {\n",
              "      border-color: transparent;\n",
              "      border-right-color: var(--fill-color);\n",
              "    }\n",
              "    80% {\n",
              "      border-color: transparent;\n",
              "      border-right-color: var(--fill-color);\n",
              "      border-bottom-color: var(--fill-color);\n",
              "    }\n",
              "    90% {\n",
              "      border-color: transparent;\n",
              "      border-bottom-color: var(--fill-color);\n",
              "    }\n",
              "  }\n",
              "</style>\n",
              "\n",
              "  <script>\n",
              "    async function quickchart(key) {\n",
              "      const quickchartButtonEl =\n",
              "        document.querySelector('#' + key + ' button');\n",
              "      quickchartButtonEl.disabled = true;  // To prevent multiple clicks.\n",
              "      quickchartButtonEl.classList.add('colab-df-spinner');\n",
              "      try {\n",
              "        const charts = await google.colab.kernel.invokeFunction(\n",
              "            'suggestCharts', [key], {});\n",
              "      } catch (error) {\n",
              "        console.error('Error during call to suggestCharts:', error);\n",
              "      }\n",
              "      quickchartButtonEl.classList.remove('colab-df-spinner');\n",
              "      quickchartButtonEl.classList.add('colab-df-quickchart-complete');\n",
              "    }\n",
              "    (() => {\n",
              "      let quickchartButtonEl =\n",
              "        document.querySelector('#df-1afce81f-37b8-4921-9f96-186f94a85506 button');\n",
              "      quickchartButtonEl.style.display =\n",
              "        google.colab.kernel.accessAllowed ? 'block' : 'none';\n",
              "    })();\n",
              "  </script>\n",
              "</div>\n",
              "\n",
              "  <div id=\"id_e4071331-901b-4580-9ec6-84110bc0b918\">\n",
              "    <style>\n",
              "      .colab-df-generate {\n",
              "        background-color: #E8F0FE;\n",
              "        border: none;\n",
              "        border-radius: 50%;\n",
              "        cursor: pointer;\n",
              "        display: none;\n",
              "        fill: #1967D2;\n",
              "        height: 32px;\n",
              "        padding: 0 0 0 0;\n",
              "        width: 32px;\n",
              "      }\n",
              "\n",
              "      .colab-df-generate:hover {\n",
              "        background-color: #E2EBFA;\n",
              "        box-shadow: 0px 1px 2px rgba(60, 64, 67, 0.3), 0px 1px 3px 1px rgba(60, 64, 67, 0.15);\n",
              "        fill: #174EA6;\n",
              "      }\n",
              "\n",
              "      [theme=dark] .colab-df-generate {\n",
              "        background-color: #3B4455;\n",
              "        fill: #D2E3FC;\n",
              "      }\n",
              "\n",
              "      [theme=dark] .colab-df-generate:hover {\n",
              "        background-color: #434B5C;\n",
              "        box-shadow: 0px 1px 3px 1px rgba(0, 0, 0, 0.15);\n",
              "        filter: drop-shadow(0px 1px 2px rgba(0, 0, 0, 0.3));\n",
              "        fill: #FFFFFF;\n",
              "      }\n",
              "    </style>\n",
              "    <button class=\"colab-df-generate\" onclick=\"generateWithVariable('df')\"\n",
              "            title=\"Generate code using this dataframe.\"\n",
              "            style=\"display:none;\">\n",
              "\n",
              "  <svg xmlns=\"http://www.w3.org/2000/svg\" height=\"24px\"viewBox=\"0 0 24 24\"\n",
              "       width=\"24px\">\n",
              "    <path d=\"M7,19H8.4L18.45,9,17,7.55,7,17.6ZM5,21V16.75L18.45,3.32a2,2,0,0,1,2.83,0l1.4,1.43a1.91,1.91,0,0,1,.58,1.4,1.91,1.91,0,0,1-.58,1.4L9.25,21ZM18.45,9,17,7.55Zm-12,3A5.31,5.31,0,0,0,4.9,8.1,5.31,5.31,0,0,0,1,6.5,5.31,5.31,0,0,0,4.9,4.9,5.31,5.31,0,0,0,6.5,1,5.31,5.31,0,0,0,8.1,4.9,5.31,5.31,0,0,0,12,6.5,5.46,5.46,0,0,0,6.5,12Z\"/>\n",
              "  </svg>\n",
              "    </button>\n",
              "    <script>\n",
              "      (() => {\n",
              "      const buttonEl =\n",
              "        document.querySelector('#id_e4071331-901b-4580-9ec6-84110bc0b918 button.colab-df-generate');\n",
              "      buttonEl.style.display =\n",
              "        google.colab.kernel.accessAllowed ? 'block' : 'none';\n",
              "\n",
              "      buttonEl.onclick = () => {\n",
              "        google.colab.notebook.generateWithVariable('df');\n",
              "      }\n",
              "      })();\n",
              "    </script>\n",
              "  </div>\n",
              "\n",
              "    </div>\n",
              "  </div>\n"
            ],
            "application/vnd.google.colaboratory.intrinsic+json": {
              "type": "dataframe",
              "variable_name": "df",
              "summary": "{\n  \"name\": \"df\",\n  \"rows\": 10,\n  \"fields\": [\n    {\n      \"column\": \"jenis_bunga\",\n      \"properties\": {\n        \"dtype\": \"category\",\n        \"num_unique_values\": 2,\n        \"samples\": [\n          \"Y\",\n          \"X\"\n        ],\n        \"semantic_type\": \"\",\n        \"description\": \"\"\n      }\n    },\n    {\n      \"column\": \"x1\",\n      \"properties\": {\n        \"dtype\": \"number\",\n        \"std\": 1,\n        \"min\": 1,\n        \"max\": 5,\n        \"num_unique_values\": 5,\n        \"samples\": [\n          2,\n          4\n        ],\n        \"semantic_type\": \"\",\n        \"description\": \"\"\n      }\n    },\n    {\n      \"column\": \"x2\",\n      \"properties\": {\n        \"dtype\": \"number\",\n        \"std\": 1,\n        \"min\": 1,\n        \"max\": 4,\n        \"num_unique_values\": 4,\n        \"samples\": [\n          2,\n          1\n        ],\n        \"semantic_type\": \"\",\n        \"description\": \"\"\n      }\n    }\n  ]\n}"
            }
          },
          "metadata": {},
          "execution_count": 13
        }
      ]
    },
    {
      "cell_type": "markdown",
      "source": [
        "*   Hitung Matriks Scatter Dalam Kelas (Within-Class Scatter Matrix) Sw berdasarkan data\n",
        "di atas."
      ],
      "metadata": {
        "id": "CXrVSit4blY-"
      }
    },
    {
      "cell_type": "code",
      "source": [
        "# Menghitung mean untuk setiap jenis bunga\n",
        "mean_X = X[y == 'X'].mean(axis=0)\n",
        "mean_Y = X[y == 'Y'].mean(axis=0)\n",
        "\n",
        "# Menampilkan hasil mean untuk masing-masing jenis bunga\n",
        "print(\"Mean Jenis Bunga X:\", mean_X)\n",
        "print(\"Mean Jenis Bunga Y:\", mean_Y)"
      ],
      "metadata": {
        "colab": {
          "base_uri": "https://localhost:8080/"
        },
        "id": "LDTB9oUgbDGr",
        "outputId": "d9b0dde3-d60c-4f04-9e45-4d1d579d8ae7"
      },
      "execution_count": 14,
      "outputs": [
        {
          "output_type": "stream",
          "name": "stdout",
          "text": [
            "Mean Jenis Bunga X: [2.  2.6]\n",
            "Mean Jenis Bunga Y: [4.  2.4]\n"
          ]
        }
      ]
    },
    {
      "cell_type": "markdown",
      "source": [
        "*   Hitung Matriks Scatter Dalam Kelas (Within-Class Scatter Matrix) Sw berdasarkan data\n",
        "di atas.\n",
        "\n"
      ],
      "metadata": {
        "id": "BXiKF-8pbxfh"
      }
    },
    {
      "cell_type": "code",
      "source": [
        "# Inisialisasi matriks scatter dalam kelas\n",
        "Sw = np.zeros((2, 2))\n",
        "\n",
        "# Menghitung matriks scatter dalam kelas (Sw)\n",
        "for i in range(len(X)):\n",
        "    x = X[i].reshape(2, 1)\n",
        "    if y[i] == 'A':\n",
        "        mean_vec = mean_A.reshape(2, 1)\n",
        "    else:\n",
        "        mean_vec = mean_B.reshape(2, 1)\n",
        "    Sw += (x - mean_vec).dot((x - mean_vec).T)\n",
        "\n",
        "# Menampilkan matriks scatter dalam kelas\n",
        "print(\"Within-Class Scatter Matrix (Sw):\\n\", Sw)"
      ],
      "metadata": {
        "colab": {
          "base_uri": "https://localhost:8080/"
        },
        "id": "xrUetANdbOoz",
        "outputId": "073d598f-62f2-4f51-9563-c8dfd628758d"
      },
      "execution_count": 15,
      "outputs": [
        {
          "output_type": "stream",
          "name": "stdout",
          "text": [
            "Within-Class Scatter Matrix (Sw):\n",
            " [[53.61111111 29.55555556]\n",
            " [29.55555556 38.27777778]]\n"
          ]
        }
      ]
    },
    {
      "cell_type": "markdown",
      "source": [
        "*   Hitung Matriks Scatter Antar Kelas (Between-Class Scatter Matrix) Sb untuk data\n",
        "tersebut."
      ],
      "metadata": {
        "id": "5jNSSkf6b3no"
      }
    },
    {
      "cell_type": "code",
      "source": [
        "# Menghitung rata-rata total\n",
        "mean_total = np.mean(X, axis=0).reshape(2, 1)\n",
        "mean_A = mean_A.reshape(2, 1)\n",
        "mean_B = mean_B.reshape(2, 1)\n",
        "\n",
        "# Menghitung matriks scatter antar kelas (Sb)\n",
        "Sb = 5 * (mean_A - mean_total).dot((mean_A - mean_total).T) + \\\n",
        "     5 * (mean_B - mean_total).dot((mean_B - mean_total).T)\n",
        "\n",
        "# Menampilkan matriks scatter antar kelas\n",
        "print(\"Between-Class Scatter Matrix (Sb):\\n\", Sb)"
      ],
      "metadata": {
        "colab": {
          "base_uri": "https://localhost:8080/"
        },
        "id": "SqKjR8cGcQ6E",
        "outputId": "9dd5053d-87c1-4f3f-cace-6bb4d1f6186f"
      },
      "execution_count": 16,
      "outputs": [
        {
          "output_type": "stream",
          "name": "stdout",
          "text": [
            "Between-Class Scatter Matrix (Sb):\n",
            " [[36.80555556 40.27777778]\n",
            " [40.27777778 45.13888889]]\n"
          ]
        }
      ]
    },
    {
      "cell_type": "markdown",
      "source": [
        "*   Jelaskan bagaimana Budi bisa menggunakan hasil perhitungan dari Sw dan Sbuntuk\n",
        "menemukan vektor proyeksi yang memisahkan jenis bunga X dan Y secara maksimal"
      ],
      "metadata": {
        "id": "FRx3MkQ3cSh-"
      }
    },
    {
      "cell_type": "code",
      "source": [
        "# Menyelesaikan persamaan nilai eigen\n",
        "eig_vals, eig_vecs = np.linalg.eig(np.linalg.inv(Sw).dot(Sb))\n",
        "\n",
        "# Menampilkan nilai eigen dan vektor eigen\n",
        "print(\"Nilai Eigen:\\n\", eig_vals)\n",
        "print(\"Vektor Eigen:\\n\", eig_vecs)"
      ],
      "metadata": {
        "colab": {
          "base_uri": "https://localhost:8080/"
        },
        "id": "X9tAg7YCc-td",
        "outputId": "9c58bb00-d94f-41b2-f372-e8dd9212ee17"
      },
      "execution_count": 17,
      "outputs": [
        {
          "output_type": "stream",
          "name": "stdout",
          "text": [
            "Nilai Eigen:\n",
            " [0.02759841 1.20092454]\n",
            "Vektor Eigen:\n",
            " [[-0.74507441 -0.17091551]\n",
            " [ 0.66698136 -0.98528569]]\n"
          ]
        }
      ]
    },
    {
      "cell_type": "code",
      "source": [
        "# Memilih indeks nilai eigen tertinggi\n",
        "idx = np.argmax(eig_vals)\n",
        "\n",
        "# Memilih vektor eigen yang sesuai dengan nilai eigen tertinggi\n",
        "w = eig_vecs[:, idx]\n",
        "\n",
        "# Menampilkan vektor proyeksi\n",
        "print(\"Vektor Proyeksi (w):\\n\", w)"
      ],
      "metadata": {
        "colab": {
          "base_uri": "https://localhost:8080/"
        },
        "id": "bjFwapuedH8j",
        "outputId": "1fc924da-ea52-43b1-9a2c-e3da4394ff77"
      },
      "execution_count": 18,
      "outputs": [
        {
          "output_type": "stream",
          "name": "stdout",
          "text": [
            "Vektor Proyeksi (w):\n",
            " [-0.17091551 -0.98528569]\n"
          ]
        }
      ]
    }
  ]
}